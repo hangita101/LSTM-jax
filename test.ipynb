{
 "cells": [
  {
   "cell_type": "code",
   "execution_count": 10,
   "metadata": {},
   "outputs": [],
   "source": [
    "import jax\n",
    "from jax import value_and_grad,jit,vmap\n",
    "import jax.numpy as jnp\n",
    "import opax"
   ]
  },
  {
   "cell_type": "code",
   "execution_count": 9,
   "metadata": {},
   "outputs": [],
   "source": [
    "Prng = jax.random.PRNGKey(42)"
   ]
  },
  {
   "cell_type": "code",
   "execution_count": 124,
   "metadata": {},
   "outputs": [],
   "source": [
    "from abc import ABC, abstractmethod\n",
    "import numpy as np\n",
    "\n",
    "class NN(ABC):\n",
    "    def __init__(self):\n",
    "        super().__init__()\n",
    "    \n",
    "    @abstractmethod\n",
    "    def forward(self, X):\n",
    "        \"\"\"Perform forward propagation\"\"\"\n",
    "        pass\n",
    "    \n",
    "\n"
   ]
  },
  {
   "cell_type": "code",
   "execution_count": null,
   "metadata": {},
   "outputs": [],
   "source": [
    "class LSTM(NN):\n",
    "    \n",
    "\n",
    "    def __init__(self ,input_size:int, hidden_size:int,rng):\n",
    "        \n",
    "        \"\"\"\n",
    "        Constructor for the LSTM class.\n",
    "        -------------------------------\n",
    "        Parameters:\n",
    "        \n",
    "        input_size (int): The number of input features (i.e., the dimensionality of the input vector).\n",
    "        hidden_size (int): The number of units in the hidden state (i.e., the dimensionality of the LSTM's hidden state and cell state).\n",
    "        rng (jax.random.PRNGKey): The random number generator key used to initialize the weights and biases of the LSTM gates.\n",
    "        \n",
    "        Initializes the LSTM with the following parameters:\n",
    "        - Weight matrices for the input-to-hidden and hidden-to-hidden connections for the four gates: input gate, forget gate, candidate gate, and output gate.\n",
    "        - Bias vectors for each gate.\n",
    "        - Initializes the hidden state and cell state to zero.\n",
    "        \"\"\"        # initializing \n",
    "        self.input_size=input_size\n",
    "        self.hidden_size=hidden_size\n",
    "        \n",
    "        \n",
    "        # Input gate weights and biases\n",
    "        self.Wii = jax.random.normal(rng, (input_size, hidden_size))  # Input-to-hidden\n",
    "        self.Whi = jax.random.normal(rng, (hidden_size, hidden_size))  # Hidden-to-hidden\n",
    "        self.bi = jnp.zeros((hidden_size,))  # Bias for input gate\n",
    "        \n",
    "        # Forget gate weights and biases\n",
    "        self.Wif = jax.random.normal(rng, (input_size, hidden_size))\n",
    "        self.Whf = jax.random.normal(rng, (hidden_size, hidden_size))\n",
    "        self.bf = jnp.zeros((hidden_size,))\n",
    "        \n",
    "        # Candidate (cell update) gate weights and biases\n",
    "        self.Wig = jax.random.normal(rng, (input_size, hidden_size))\n",
    "        self.Whg = jax.random.normal(rng, (hidden_size, hidden_size))\n",
    "        self.bg = jnp.zeros((hidden_size,))\n",
    "        \n",
    "        # Output gate weights and biases\n",
    "        self.Wio = jax.random.normal(rng, (input_size, hidden_size))\n",
    "        self.Who = jax.random.normal(rng, (hidden_size, hidden_size))\n",
    "        self.bo = jnp.zeros((hidden_size,))        \n",
    "            \n",
    "        self.h_t = jnp.zeros((hidden_size,))\n",
    "        self.c_t = jnp.zeros((hidden_size,))\n",
    "        \n",
    "        \n",
    "\n",
    "    def forward(self, X):\n",
    "        \"\"\"\n",
    "        Forawrd pass of LSTM for a single time step\n",
    "        \"\"\"\n",
    "        # Assuming X in already an input for current time step t        \n",
    "        X_t =X\n",
    "        i = jax.nn.sigmoid(self.Wii@X_t+ self.Whi@self.h_t +self.bi)\n",
    "        f = jax.nn.sigmoid(self.Wif@X_t+self.Whf@self.h_t+self.bf)\n",
    "        g= jax.nn.sigmoid(self.Wig@X_t + self.Whg@self.h_t + self.bg)\n",
    "        o = jax.nn.sigmoid(self.Wio@X_t+ self.Who@self.h_t + self.bo)\n",
    "        \n",
    "        self.c_t = f*self.c_t + i*g\n",
    "        self.h_t = o* jax.nn.sigmoid(self.c_t)        \n",
    "        \n",
    "        return self.c_t,self.h_t\n",
    "    \n",
    "    def params(self):\n",
    "        return {\n",
    "            'Wii': self.Wii,\n",
    "            'Whi': self.Whi,\n",
    "            'bi': self.bi,\n",
    "            'Wif': self.Wif,\n",
    "            'Whf': self.Whf,\n",
    "            'bf': self.bf,\n",
    "            'Wig': self.Wig,\n",
    "            'Whg': self.Whg,\n",
    "            'bg': self.bg,\n",
    "            'Wio': self.Wio,\n",
    "            'Who': self.Who,\n",
    "            'bo': self.bo,\n",
    "            'c_t': self.c_t\n",
    "        } \n",
    "    @staticmethod\n",
    "    def loss(params,x,y):\n",
    "        self.\n",
    "        \n"
   ]
  },
  {
   "cell_type": "code",
   "execution_count": 132,
   "metadata": {},
   "outputs": [],
   "source": [
    "model = LSTM(1,1,Prng)"
   ]
  },
  {
   "cell_type": "code",
   "execution_count": null,
   "metadata": {},
   "outputs": [],
   "source": []
  },
  {
   "cell_type": "code",
   "execution_count": 128,
   "metadata": {},
   "outputs": [],
   "source": [
    "x= jnp.linspace(-10,10,1000).reshape(-1,1)\n",
    "y=jax.nn.sigmoid(x)"
   ]
  },
  {
   "cell_type": "code",
   "execution_count": 129,
   "metadata": {},
   "outputs": [],
   "source": [
    "fwd = vmap( model.forward)"
   ]
  },
  {
   "cell_type": "code",
   "execution_count": 130,
   "metadata": {},
   "outputs": [],
   "source": [
    "c,t=fwd(x)"
   ]
  },
  {
   "cell_type": "code",
   "execution_count": null,
   "metadata": {},
   "outputs": [],
   "source": []
  },
  {
   "cell_type": "code",
   "execution_count": null,
   "metadata": {},
   "outputs": [],
   "source": []
  }
 ],
 "metadata": {
  "kernelspec": {
   "display_name": "ML",
   "language": "python",
   "name": "python3"
  },
  "language_info": {
   "codemirror_mode": {
    "name": "ipython",
    "version": 3
   },
   "file_extension": ".py",
   "mimetype": "text/x-python",
   "name": "python",
   "nbconvert_exporter": "python",
   "pygments_lexer": "ipython3",
   "version": "3.9.20"
  }
 },
 "nbformat": 4,
 "nbformat_minor": 2
}
